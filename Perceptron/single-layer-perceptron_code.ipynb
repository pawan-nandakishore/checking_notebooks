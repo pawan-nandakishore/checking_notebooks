{
 "cells": [
  {
   "cell_type": "markdown",
   "metadata": {},
   "source": [
    "## Perceptron using sklearn \n"
   ]
  },
  {
   "cell_type": "code",
   "execution_count": 1,
   "metadata": {
    "ExecuteTime": {
     "end_time": "2019-12-17T19:52:25.001353Z",
     "start_time": "2019-12-17T19:52:24.558549Z"
    }
   },
   "outputs": [],
   "source": [
    "import numpy as np \n",
    "import matplotlib.pyplot as plt \n",
    "import sklearn.datasets as dts\n",
    "import sklearn.model_selection as ms \n",
    "import sklearn.linear_model as lm \n",
    "import sklearn.metrics as metrics\n"
   ]
  },
  {
   "cell_type": "code",
   "execution_count": 2,
   "metadata": {
    "ExecuteTime": {
     "end_time": "2019-12-17T19:52:25.027687Z",
     "start_time": "2019-12-17T19:52:25.002532Z"
    }
   },
   "outputs": [],
   "source": [
    "# generate classification dataset \n",
    "dataset = dts.make_classification(n_samples=1000, n_features=2,n_redundant=0,random_state=7)\n"
   ]
  },
  {
   "cell_type": "code",
   "execution_count": 3,
   "metadata": {
    "ExecuteTime": {
     "end_time": "2019-12-17T19:52:25.031048Z",
     "start_time": "2019-12-17T19:52:25.028944Z"
    }
   },
   "outputs": [],
   "source": [
    "# split into test train sets \n",
    "X = dataset[0]\n",
    "y = dataset[1]\n",
    "\n",
    "x_train, x_test, y_train, y_test = ms.train_test_split(X,y, test_size=0.20)"
   ]
  },
  {
   "cell_type": "code",
   "execution_count": 4,
   "metadata": {
    "ExecuteTime": {
     "end_time": "2019-12-17T19:52:25.139478Z",
     "start_time": "2019-12-17T19:52:25.032069Z"
    }
   },
   "outputs": [
    {
     "data": {
      "image/png": "[encoded data removed]",
      "text/plain": [
       "<Figure size 432x288 with 1 Axes>"
      ]
     },
     "metadata": {
      "needs_background": "light"
     },
     "output_type": "display_data"
    }
   ],
   "source": [
    "# seperate classes and plot them\n",
    "\n",
    "red_x = x_test[np.where(y_test ==1)[0]]\n",
    "blue_x = x_test[np.where(y_test ==0)[0]]\n",
    "\n",
    "plt.scatter(red_x[:,0], red_x[:,1], color=\"red\")\n",
    "plt.scatter(blue_x[:,0], blue_x[:,1], color=\"blue\")\n",
    "\n",
    "plt.show()"
   ]
  },
  {
   "cell_type": "code",
   "execution_count": 5,
   "metadata": {
    "ExecuteTime": {
     "end_time": "2019-12-17T19:52:25.145173Z",
     "start_time": "2019-12-17T19:52:25.140868Z"
    }
   },
   "outputs": [
    {
     "data": {
      "text/plain": [
       "Perceptron(alpha=0.0001, class_weight=None, early_stopping=False, eta0=1.0,\n",
       "           fit_intercept=True, max_iter=100, n_iter_no_change=5, n_jobs=None,\n",
       "           penalty=None, random_state=12, shuffle=False, tol=0.001,\n",
       "           validation_fraction=0.1, verbose=0, warm_start=False)"
      ]
     },
     "execution_count": 5,
     "metadata": {},
     "output_type": "execute_result"
    }
   ],
   "source": [
    "# fit perceptron algorithm to classification data\n",
    "\n",
    "perceptron = lm.Perceptron(max_iter=100, random_state=12, shuffle=False)\n",
    "perceptron.fit(x_train, y_train)\n"
   ]
  },
  {
   "cell_type": "code",
   "execution_count": 6,
   "metadata": {
    "ExecuteTime": {
     "end_time": "2019-12-17T19:52:25.155013Z",
     "start_time": "2019-12-17T19:52:25.146188Z"
    }
   },
   "outputs": [
    {
     "data": {
      "text/plain": [
       "0.855"
      ]
     },
     "execution_count": 6,
     "metadata": {},
     "output_type": "execute_result"
    }
   ],
   "source": [
    "# get predicition and accuracy \n",
    "y_pred = perceptron.predict(x_test)\n",
    "metrics.accuracy_score(y_pred, y_test)"
   ]
  },
  {
   "cell_type": "code",
   "execution_count": 7,
   "metadata": {
    "ExecuteTime": {
     "end_time": "2019-12-17T19:52:25.160682Z",
     "start_time": "2019-12-17T19:52:25.156155Z"
    }
   },
   "outputs": [],
   "source": [
    "# get decision boundary paramaters \n",
    "w = perceptron.coef_[0]\n",
    "slope = -(w[0]/w[1])\n",
    "intercept = -(1.0/w[1])\n"
   ]
  },
  {
   "cell_type": "code",
   "execution_count": 8,
   "metadata": {
    "ExecuteTime": {
     "end_time": "2019-12-17T19:52:25.269197Z",
     "start_time": "2019-12-17T19:52:25.162888Z"
    }
   },
   "outputs": [
    {
     "data": {
      "image/png": "[encoded data removed]",
      "text/plain": [
       "<Figure size 432x288 with 1 Axes>"
      ]
     },
     "metadata": {
      "needs_background": "light"
     },
     "output_type": "display_data"
    }
   ],
   "source": [
    "# scatter plot with decision boundary\n",
    "x_values = np.linspace(-5,5,1000)\n",
    "desc_boundary = slope*x_values+ intercept \n",
    "\n",
    "plt.scatter(red_x[:,0], red_x[:,1], color=\"red\")\n",
    "plt.scatter(blue_x[:,0], blue_x[:,1], color=\"blue\")\n",
    "plt.plot(x_values, desc_boundary)\n",
    "plt.xlim([-4,4])\n",
    "plt.ylim([-4,4])\n",
    "plt.show()"
   ]
  },
  {
   "cell_type": "markdown",
   "metadata": {},
   "source": [
    "## Manual coded perceptron \n"
   ]
  },
  {
   "cell_type": "code",
   "execution_count": 9,
   "metadata": {
    "ExecuteTime": {
     "end_time": "2019-12-17T19:52:25.630303Z",
     "start_time": "2019-12-17T19:52:25.270499Z"
    }
   },
   "outputs": [],
   "source": [
    "# rescale the targets for test and train sets \n",
    "y_train[y_train==0]= -1\n",
    "\n",
    "# intialization function \n",
    "np.random.seed(1)\n",
    "\n",
    "def initialize_weights(weights_shape):\n",
    "    np.random.seed(1)\n",
    "    if isinstance(weights_shape, int): \n",
    "        initial_weights = np.random.randn(weights_shape)\n",
    "    else:\n",
    "        shape_x = weights_shape[0]\n",
    "        shape_y = weights_shape[1]\n",
    "        initial_weights = np.random.randn(shape_x, shape_y)\n",
    "    \n",
    "    return initial_weights \n",
    "\n",
    "\n",
    "# first step is initalize weights \n",
    "weights = initialize_weights(2)\n",
    "\n",
    "def inference(weights, initial_x, bias):\n",
    "    check_output =  np.sum(weights*initial_x) + bias\n",
    "    # assign predicted label \n",
    "    if check_output >= 0: \n",
    "        pred_value = 1 \n",
    "    else: \n",
    "        pred_value = - 1 \n",
    "\n",
    "    return pred_value\n",
    "\n",
    "\n",
    "# second step run inference \n",
    "bias = 1.0 \n",
    "data_index = 0 \n",
    "\n",
    "epochs = 100\n",
    "for ep in range(0, epochs): \n",
    "\n",
    "    data_indicies =  np.random.choice(np.arange(0,x_train.shape[0]), x_train.shape[0])\n",
    "    for data_index in data_indicies : \n",
    "    \n",
    "        initial_x = x_train[data_index]\n",
    "        \n",
    "        pred_value= inference(weights, initial_x, bias)\n",
    "\n",
    "        # update weights \n",
    "        if pred_value == y_train[data_index]: \n",
    "            pass\n",
    "        else: \n",
    "            loss_derivative =  y_train[data_index]*x_train[data_index]\n",
    "            weights = weights + loss_derivative\n",
    "\n",
    "    \n"
   ]
  },
  {
   "cell_type": "code",
   "execution_count": 10,
   "metadata": {
    "ExecuteTime": {
     "end_time": "2019-12-17T19:52:25.640176Z",
     "start_time": "2019-12-17T19:52:25.631388Z"
    }
   },
   "outputs": [
    {
     "data": {
      "text/plain": [
       "array([[1.11785106, 2.5168373 ]])"
      ]
     },
     "execution_count": 10,
     "metadata": {},
     "output_type": "execute_result"
    }
   ],
   "source": [
    "perceptron.coef_ "
   ]
  },
  {
   "cell_type": "code",
   "execution_count": 11,
   "metadata": {
    "ExecuteTime": {
     "end_time": "2019-12-17T19:52:25.646107Z",
     "start_time": "2019-12-17T19:52:25.641532Z"
    }
   },
   "outputs": [
    {
     "data": {
      "text/plain": [
       "array([1.65276708, 2.72554583])"
      ]
     },
     "execution_count": 11,
     "metadata": {},
     "output_type": "execute_result"
    }
   ],
   "source": [
    "weights"
   ]
  },
  {
   "cell_type": "code",
   "execution_count": 12,
   "metadata": {
    "ExecuteTime": {
     "end_time": "2019-12-17T19:54:55.750898Z",
     "start_time": "2019-12-17T19:54:55.748794Z"
    }
   },
   "outputs": [],
   "source": [
    "manual_slope = -(weights[0]/weights[1])\n",
    "manual_intercept = -(1.0/weights[1])\n"
   ]
  },
  {
   "cell_type": "code",
   "execution_count": 13,
   "metadata": {
    "ExecuteTime": {
     "end_time": "2019-12-17T19:54:57.319469Z",
     "start_time": "2019-12-17T19:54:57.219365Z"
    }
   },
   "outputs": [
    {
     "data": {
      "image/png": "[encoded data removed]",
      "text/plain": [
       "<Figure size 432x288 with 1 Axes>"
      ]
     },
     "metadata": {
      "needs_background": "light"
     },
     "output_type": "display_data"
    }
   ],
   "source": [
    "x_values = np.linspace(-5,5,1000)\n",
    "desc_boundary_manual = manual_slope*x_values+ manual_intercept \n",
    "plt.figure()\n",
    "plt.scatter(red_x[:,0], red_x[:,1], color=\"red\")\n",
    "plt.scatter(blue_x[:,0], blue_x[:,1], color=\"blue\")\n",
    "plt.plot(x_values, desc_boundary_manual, color=\"green\")\n",
    "plt.plot(x_values, desc_boundary, color=\"orange\")\n",
    "plt.xlim([-4,4])\n",
    "plt.ylim([-4,4])\n",
    "plt.show()"
   ]
  },
  {
   "cell_type": "code",
   "execution_count": 18,
   "metadata": {},
   "outputs": [
    {
     "data": {
      "text/plain": [
       "array([ 95, 425, 199,  69, 710,  23, 726, 106,  39,  31, 293,  38, 184,\n",
       "       420, 578, 778, 468,  16, 798, 508, 699, 565, 121, 752, 243, 458,\n",
       "       686, 155, 673, 580, 551, 545, 782,  77,  61, 548, 780, 506, 437,\n",
       "       282, 762, 483, 524, 745, 281, 741, 385, 492, 681, 619, 567, 567,\n",
       "       448, 655, 476, 296, 316, 582, 433, 178, 672, 218, 276, 308, 550,\n",
       "       449, 720,  89, 787, 576,  42,  97,   1,  89,  38,  18, 472, 492,\n",
       "       474, 467, 295, 127, 271, 293, 486, 164, 354, 127, 238, 769,  32,\n",
       "       670,   7, 112,  50, 690, 160, 709,   1, 609, 374, 179, 542, 594,\n",
       "       689, 337, 735, 455, 765, 405, 530, 686, 172, 731, 137, 388,  77,\n",
       "       511, 151,  95, 755, 187, 741, 637,  64, 415, 641,  84, 233,  68,\n",
       "        54,  25, 467, 411, 762, 568, 604, 776, 332, 174,  11, 136, 445,\n",
       "       151, 344, 217, 466, 210,   5, 682, 533, 117, 585, 658, 151, 557,\n",
       "       479, 381, 564, 694, 367, 445, 680, 753, 328, 278,   2, 214, 257,\n",
       "        72, 307, 455, 727,  77, 560, 256, 554, 295, 515, 441, 565, 699,\n",
       "       322, 603, 261,  26,  31, 523, 387, 694, 129,  13,  59, 440, 721,\n",
       "       136,  38, 388, 326,   5, 463,  84, 187,  31, 474,   7, 235, 322,\n",
       "       160, 459, 300, 549, 175, 457, 474, 340, 783, 449,  52, 709, 345,\n",
       "        28, 787, 785, 773, 237, 207, 394, 254, 413, 145, 209, 430,   7,\n",
       "        17, 754,  86, 317, 320, 519, 797, 695, 796, 483,  43, 482,  55,\n",
       "       232, 261, 306, 191, 692, 105, 226, 165, 473, 260, 139, 541, 473,\n",
       "       416, 690, 232, 691, 682, 407, 125, 601,  43, 254, 370, 616,  95,\n",
       "       284,  64, 114, 214, 766, 639, 307,  10, 543, 500,   9, 103, 134,\n",
       "       670, 658, 652, 329,  74, 347, 213, 565, 170, 646, 393, 164, 471,\n",
       "       187, 776, 437, 530, 106,  21,  67, 509,  14,  20, 380, 265, 554,\n",
       "       788, 363,  77,  42, 291, 156, 746,  85,  34, 234, 220, 722, 392,\n",
       "       798, 576, 717, 274, 166, 244, 180, 723, 493,  25, 744, 355, 581,\n",
       "       543,  59, 318,  29, 322, 635,  32, 249, 349, 200,  68, 550, 316,\n",
       "        97, 502, 777, 334, 788, 419, 439, 755, 156, 685,  92, 440, 516,\n",
       "       719,  31, 740,  76, 436, 250, 595, 720, 484,  74, 582, 740, 185,\n",
       "       798,  99, 448,  41, 498, 688, 682, 369, 242, 662, 576, 189, 188,\n",
       "       365,  96, 155, 256, 666, 276, 762,  26, 357, 488, 786, 253, 466,\n",
       "       742, 315, 629, 369, 574, 498, 678, 663, 580, 709, 189, 343, 450,\n",
       "       787, 759, 676, 785, 149, 205, 362, 755, 666, 753, 416, 520,  68,\n",
       "       594, 310, 725, 383, 733, 503, 714,  89, 791, 781, 395, 394, 216,\n",
       "        24, 249, 452, 731, 633, 141,   6,   2, 323, 349, 234, 388, 156,\n",
       "        35, 358, 205, 174,  78, 617, 390, 219, 148, 151, 483, 711, 262,\n",
       "       789,  50,  90,   9, 617, 597, 495,  33, 455, 121, 392, 487,  33,\n",
       "       638, 445, 519, 425,  27, 296, 455, 557, 649, 751,  46, 633, 570,\n",
       "        21, 256, 659, 147,  27,  97, 744, 238, 746, 405, 350, 239, 402,\n",
       "       707, 291,  95,  29, 359, 278, 440, 247, 778, 584, 543, 594, 647,\n",
       "       727, 136, 317,  23, 494, 290, 251, 131, 311, 496,  15, 280, 574,\n",
       "       106, 121, 538, 610, 237, 559, 471, 488, 163, 500, 656, 215, 239,\n",
       "       474, 343, 185, 280, 308, 792, 399, 195,  73, 174, 404, 322,  12,\n",
       "       409, 640,  97, 226, 139, 346, 792, 243,  54, 764, 687, 461, 296,\n",
       "       443, 742, 601, 799, 494, 754,  33, 422, 491, 404, 521, 490, 323,\n",
       "       593,  79, 175, 454, 426, 645, 404, 187, 792, 314, 750,  79, 698,\n",
       "       575, 595, 728, 722, 632, 718, 116,  27, 279, 581, 452, 279, 430,\n",
       "       295,  66, 333, 618, 154, 792, 639, 401, 599, 769, 173, 405, 239,\n",
       "       529, 696, 289, 427, 482, 514, 352, 346,  83, 410, 371,  55,   7,\n",
       "       739, 159, 460, 198,  92, 354, 727, 213,  74, 399, 629, 142, 568,\n",
       "       215,   1, 715, 332, 239, 658,  62, 308, 284, 599, 294, 148, 609,\n",
       "       179, 110, 571, 350, 448, 526, 481, 308,  44, 528, 704, 365, 109,\n",
       "       251, 522,  45, 216, 590, 103, 315, 682, 704, 261, 602, 567, 497,\n",
       "       298, 276, 750,  88, 274,  92, 433, 211, 143, 529, 189, 135, 487,\n",
       "        55, 130, 474, 499, 132,  16, 461, 580, 286,  52, 420, 354, 187,\n",
       "       754, 740, 543, 364, 160, 307,   5, 289, 128, 265, 543, 550, 651,\n",
       "       300, 171, 775, 112, 608, 349, 436, 360, 664, 691, 266,  94, 561,\n",
       "       786, 124, 138,  61, 390, 647, 719, 640, 771,  51, 399, 707,  81,\n",
       "       315, 531, 172,  61, 533, 384, 319, 606, 641, 340, 746, 188, 204,\n",
       "        22, 142, 408, 174, 748, 491, 616, 288, 208, 198, 152, 461, 729,\n",
       "       163,  57, 159, 250, 782, 369, 622, 781,  19, 655, 681, 675,  25,\n",
       "       381, 179,  34, 150, 631, 355, 317])"
      ]
     },
     "execution_count": 18,
     "metadata": {},
     "output_type": "execute_result"
    }
   ],
   "source": [
    "np.random.choice(np.arange(0,x_train.shape[0]), x_train.shape[0])"
   ]
  },
  {
   "cell_type": "code",
   "execution_count": null,
   "metadata": {},
   "outputs": [],
   "source": []
  }
 ],
 "metadata": {
  "kernelspec": {
   "display_name": "Python 3",
   "language": "python",
   "name": "python3"
  },
  "language_info": {
   "codemirror_mode": {
    "name": "ipython",
    "version": 3
   },
   "file_extension": ".py",
   "mimetype": "text/x-python",
   "name": "python",
   "nbconvert_exporter": "python",
   "pygments_lexer": "ipython3",
   "version": "3.7.3"
  },
  "latex_envs": {
   "LaTeX_envs_menu_present": true,
   "autoclose": false,
   "autocomplete": true,
   "bibliofile": "biblio.bib",
   "cite_by": "apalike",
   "current_citInitial": 1,
   "eqLabelWithNumbers": true,
   "eqNumInitial": 1,
   "hotkeys": {
    "equation": "Ctrl-E",
    "itemize": "Ctrl-I"
   },
   "labels_anchors": false,
   "latex_user_defs": false,
   "report_style_numbering": false,
   "user_envs_cfg": false
  },
  "toc": {
   "base_numbering": 1,
   "nav_menu": {},
   "number_sections": false,
   "sideBar": true,
   "skip_h1_title": false,
   "title_cell": "Table of Contents",
   "title_sidebar": "Contents",
   "toc_cell": false,
   "toc_position": {},
   "toc_section_display": true,
   "toc_window_display": false
  },
  "varInspector": {
   "cols": {
    "lenName": 16,
    "lenType": 16,
    "lenVar": 40
   },
   "kernels_config": {
    "python": {
     "delete_cmd_postfix": "",
     "delete_cmd_prefix": "del ",
     "library": "var_list.py",
     "varRefreshCmd": "print(var_dic_list())"
    },
    "r": {
     "delete_cmd_postfix": ") ",
     "delete_cmd_prefix": "rm(",
     "library": "var_list.r",
     "varRefreshCmd": "cat(var_dic_list()) "
    }
   },
   "types_to_exclude": [
    "module",
    "function",
    "builtin_function_or_method",
    "instance",
    "_Feature"
   ],
   "window_display": false
  }
 },
 "nbformat": 4,
 "nbformat_minor": 2
}
